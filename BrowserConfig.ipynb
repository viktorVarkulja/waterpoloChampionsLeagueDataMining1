{
 "cells": [
  {
   "cell_type": "code",
   "execution_count": 1,
   "id": "b3f2d628-c096-4fb3-94fc-767e148aef68",
   "metadata": {},
   "outputs": [],
   "source": [
    "from selenium import webdriver\n",
    "\n",
    "baseUrl = \"https://championsleague.len.eu/calendar-history-2022-23/\""
   ]
  },
  {
   "cell_type": "code",
   "execution_count": 2,
   "id": "815f29aa-265a-4f73-b11a-b072ac2bc21d",
   "metadata": {},
   "outputs": [],
   "source": [
    "#Initializing configuration of browser driver with given URL\n",
    "def initialize_browser():\n",
    "    chrome_options = webdriver.ChromeOptions()\n",
    "    chrome_options.add_argument('ignore-certificate-errors')\n",
    "    chrome_options.add_argument(\"start-maximized\")\n",
    "    driver = webdriver.Chrome(options=chrome_options)\n",
    "    driver.get(baseUrl)\n",
    "    return driver"
   ]
  },
  {
   "cell_type": "code",
   "execution_count": null,
   "id": "036b5f60-daf6-474e-8eb8-d19fc09a7a8a",
   "metadata": {},
   "outputs": [],
   "source": []
  }
 ],
 "metadata": {
  "kernelspec": {
   "display_name": "Python 3 (ipykernel)",
   "language": "python",
   "name": "python3"
  },
  "language_info": {
   "codemirror_mode": {
    "name": "ipython",
    "version": 3
   },
   "file_extension": ".py",
   "mimetype": "text/x-python",
   "name": "python",
   "nbconvert_exporter": "python",
   "pygments_lexer": "ipython3",
   "version": "3.11.7"
  }
 },
 "nbformat": 4,
 "nbformat_minor": 5
}
