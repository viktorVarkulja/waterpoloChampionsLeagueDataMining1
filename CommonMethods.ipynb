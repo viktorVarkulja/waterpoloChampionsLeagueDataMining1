{
 "cells": [
  {
   "cell_type": "code",
   "execution_count": 43,
   "id": "f8b4f84a-1355-4d4f-8e71-8b191c9e1ab0",
   "metadata": {},
   "outputs": [],
   "source": [
    "from selenium import webdriver\n",
    "from selenium.webdriver.common.keys import Keys\n",
    "from selenium.webdriver.common.by import By\n",
    "from selenium.webdriver.support.wait import WebDriverWait\n",
    "from selenium.webdriver.support import expected_conditions as EC\n",
    "import pandas as pd"
   ]
  },
  {
   "cell_type": "code",
   "execution_count": 44,
   "id": "b5ab643f-6391-437b-bc35-f8f201ee1f97",
   "metadata": {},
   "outputs": [],
   "source": [
    "#Waits on presence of element\n",
    "def wait_on_element(driver, element):\n",
    "    wait = WebDriverWait(driver, 20)\n",
    "    element = wait.until(EC.presence_of_element_located(element))\n",
    "    return element"
   ]
  },
  {
   "cell_type": "code",
   "execution_count": 45,
   "id": "aa74b8ba-49ac-4063-94b9-3ce7dea97ff7",
   "metadata": {},
   "outputs": [],
   "source": [
    "#Waits on presence of element\n",
    "def wait_on_all_elements(driver, elements):\n",
    "    wait = WebDriverWait(driver, 20)\n",
    "    elements = wait.until(EC.presence_of_all_elements_located(elements))\n",
    "    return elements"
   ]
  },
  {
   "cell_type": "code",
   "execution_count": 46,
   "id": "ae49bf35-e9f7-4cf3-9e56-a9a72d7ea3ca",
   "metadata": {},
   "outputs": [],
   "source": [
    "#Waits and then clicks on the given element\n",
    "def click_on_element(driver, element):\n",
    "    #element = wait_on_element(driver, element)\n",
    "    element.click()"
   ]
  },
  {
   "cell_type": "code",
   "execution_count": 47,
   "id": "c4fc5bb0-0f06-4acc-870a-3de49b992833",
   "metadata": {},
   "outputs": [],
   "source": [
    "#Waits and then gets the inner text of given element\n",
    "def get_text_from_element(driver, element):\n",
    "    if type(element) is tuple:\n",
    "        element = wait_on_element(driver, element)\n",
    "    text = element.get_attribute(\"innerText\")\n",
    "    return text.strip()"
   ]
  },
  {
   "cell_type": "code",
   "execution_count": 48,
   "id": "8676476e-1b25-4111-b362-b79d9d380228",
   "metadata": {},
   "outputs": [],
   "source": [
    "#Returns a list of the inner text of the given elements list\n",
    "def get_list_text_from_elements(driver, elements):\n",
    "    list_text = []\n",
    "    for e in elements:\n",
    "        list_text.append(get_text_from_element(driver, e))\n",
    "    \n",
    "    return list_text"
   ]
  },
  {
   "cell_type": "code",
   "execution_count": 49,
   "id": "4675e75e-a7bc-432c-8338-27dcdb9b7696",
   "metadata": {},
   "outputs": [],
   "source": [
    "#Separates the values if there's a slash\n",
    "def separate_by_slash(text):\n",
    "    values = text.split('/')\n",
    "    result = [eval(i) for i in values]\n",
    "   \n",
    "    return result"
   ]
  },
  {
   "cell_type": "code",
   "execution_count": 50,
   "id": "1fa11e45-9014-4ff1-87d5-728b272293e0",
   "metadata": {},
   "outputs": [],
   "source": [
    "#Cleans data so it can be used for analisys\n",
    "#empty text equals 0\n",
    "#converts to integer\n",
    "def clean_data(text):\n",
    "    if(text == \"\"):\n",
    "        return 0\n",
    "\n",
    "    if '/' in text:\n",
    "        return separate_by_slash(text)\n",
    "\n",
    "    return int(text)"
   ]
  },
  {
   "cell_type": "code",
   "execution_count": 52,
   "id": "8c92379b-6b4a-4475-9d04-c198c0c4c20a",
   "metadata": {},
   "outputs": [],
   "source": [
    "#Adds row of data to DataFrame\n",
    "def add_row_data_frame(df, team, list_text):\n",
    "    data_values = [team,]\n",
    "    s_index = 0\n",
    "    for i in range(len(list_text)):\n",
    "        s = list_text[i]\n",
    "        if '%' in s:\n",
    "            continue\n",
    "       \n",
    "        if (i in range(9) or i == 13) and s == \"\":\n",
    "            s = \"0/0\"\n",
    "        \n",
    "        if isinstance(clean_data(s), list):  \n",
    "            for d in clean_data(s):\n",
    "                data_values.append(d)\n",
    "            continue\n",
    "                \n",
    "        data_values.append(clean_data(s))\n",
    "\n",
    "    df.loc[len(df.index)] = data_values"
   ]
  },
  {
   "cell_type": "code",
   "execution_count": null,
   "id": "3bad2467-165f-4845-97a7-e88ca8755d75",
   "metadata": {},
   "outputs": [],
   "source": []
  }
 ],
 "metadata": {
  "kernelspec": {
   "display_name": "Python 3 (ipykernel)",
   "language": "python",
   "name": "python3"
  },
  "language_info": {
   "codemirror_mode": {
    "name": "ipython",
    "version": 3
   },
   "file_extension": ".py",
   "mimetype": "text/x-python",
   "name": "python",
   "nbconvert_exporter": "python",
   "pygments_lexer": "ipython3",
   "version": "3.11.7"
  }
 },
 "nbformat": 4,
 "nbformat_minor": 5
}
